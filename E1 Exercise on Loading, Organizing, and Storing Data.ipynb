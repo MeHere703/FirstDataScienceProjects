{
 "cells": [
  {
   "cell_type": "markdown",
   "id": "abf31f93-0867-4f2e-b76f-d14b07d57269",
   "metadata": {
    "deletable": false,
    "editable": false
   },
   "source": [
    "# <font face = 'Impact' color = '#FFAEBC' > Exercise on Loading, Organizing, and Storing Data<font/>\n",
    "#### <font face = 'Times New Roman' color = '#B5E5CF'> Licence: GPL v3.0 <font/>\n",
    "#### <font face = 'Times New Roman' color = '#B5E5CF'> Author and Trainer: Paolo Hilado MSc. (Data Science) <font/>\n",
    "Showcase your learning and skills by accomplishing this jupyter notebook. Follow through each of the tasks and code with python to address them."
   ]
  },
  {
   "cell_type": "markdown",
   "id": "90f4a546-f96d-4f83-a264-3f49f007dcda",
   "metadata": {},
   "source": [
    "# Name of Participant: Paolo G. Hilado"
   ]
  },
  {
   "cell_type": "code",
   "execution_count": null,
   "id": "658e249b-c429-46e5-9357-e78fdecbd4c8",
   "metadata": {},
   "outputs": [],
   "source": [
    "# Import the necesary libraries such as pandas, researchpy, os, and numpy.\n"
   ]
  },
  {
   "cell_type": "code",
   "execution_count": null,
   "id": "929f781c-7aea-4d2b-85d0-e866ec6608e7",
   "metadata": {},
   "outputs": [],
   "source": [
    "#Checking out the current working directory\n"
   ]
  },
  {
   "cell_type": "code",
   "execution_count": null,
   "id": "4cedc7cc-b688-4da0-908b-14fb25cafc3e",
   "metadata": {},
   "outputs": [],
   "source": [
    "#Load a spreadsheet and assigning it to a variable df.\n",
    "# Open and work on \"ExperimentOne.xlsx\".\n"
   ]
  },
  {
   "cell_type": "code",
   "execution_count": null,
   "id": "254a82bd-0f57-47b9-a92f-306690bfd361",
   "metadata": {},
   "outputs": [],
   "source": [
    "#View the dataframe\n"
   ]
  },
  {
   "cell_type": "code",
   "execution_count": null,
   "id": "79335ea8-3643-4e5b-92b4-7dd77af64f96",
   "metadata": {},
   "outputs": [],
   "source": [
    "# Viewing the first 7 rows\n"
   ]
  },
  {
   "cell_type": "code",
   "execution_count": null,
   "id": "3597bb43-aa49-4c08-9571-dcf8139cd0d3",
   "metadata": {},
   "outputs": [],
   "source": [
    "# Viewing the last 7 rows\n"
   ]
  },
  {
   "cell_type": "code",
   "execution_count": null,
   "id": "3e5cf7d6-3bdd-4952-86a7-90772c2266b7",
   "metadata": {},
   "outputs": [],
   "source": [
    "# Slice the data frame to only show the data on the \"Post\" Column.\n",
    "# Slicing column approach 1\n",
    "# Slicing a column approach 2"
   ]
  },
  {
   "cell_type": "code",
   "execution_count": null,
   "id": "f50d55cf-2764-46ac-b9cf-ac08ec78f0f3",
   "metadata": {},
   "outputs": [],
   "source": [
    "# Create different subsets of the data frame and show it.\n",
    "# Get the data for the first column\n"
   ]
  },
  {
   "cell_type": "code",
   "execution_count": null,
   "id": "715f361a-ed4e-4237-b43d-e90a5ed3440b",
   "metadata": {},
   "outputs": [],
   "source": [
    "# Get the Post Test and Group data for records 1-10 \n"
   ]
  },
  {
   "cell_type": "code",
   "execution_count": null,
   "id": "172f9297-37a0-4fd7-8ebe-dee65f3bc778",
   "metadata": {},
   "outputs": [],
   "source": [
    "# Get the Post Test and Group data for records 7,11,15,50,61.\n"
   ]
  },
  {
   "cell_type": "code",
   "execution_count": null,
   "id": "24961adc-0daa-456d-92b8-3c4699916b08",
   "metadata": {},
   "outputs": [],
   "source": [
    "# Check the information of the data frame such as number of records and features,\n",
    "# data types of each feature and file size.\n"
   ]
  },
  {
   "cell_type": "code",
   "execution_count": null,
   "id": "848cfbff-8c3b-4c5e-8c29-e06eccd0e5ac",
   "metadata": {},
   "outputs": [],
   "source": [
    "#Checking for NAs or missing cases for the data set\n"
   ]
  },
  {
   "cell_type": "code",
   "execution_count": null,
   "id": "b02b7a98-8450-4a11-aeb6-0a54b33868e3",
   "metadata": {},
   "outputs": [],
   "source": [
    "# Check for NAs per column\n"
   ]
  },
  {
   "cell_type": "code",
   "execution_count": null,
   "id": "45e8ab6b-9e23-4669-9995-9c633f3ccd60",
   "metadata": {},
   "outputs": [],
   "source": [
    "# Provide a descriptive analysis for the Post Test measure\n"
   ]
  },
  {
   "cell_type": "code",
   "execution_count": null,
   "id": "378cd718-708e-427e-8b81-352d86f4f577",
   "metadata": {},
   "outputs": [],
   "source": [
    "# Provide a descriptive analysis for Post Test measure per Group.\n",
    "# Make sure that it is rounded to two decimal places only.\n",
    "# Save this in the variable labeled results.\n",
    "# Present the results variable\n"
   ]
  }
 ],
 "metadata": {
  "kernelspec": {
   "display_name": "Python 3 (ipykernel)",
   "language": "python",
   "name": "python3"
  },
  "language_info": {
   "codemirror_mode": {
    "name": "ipython",
    "version": 3
   },
   "file_extension": ".py",
   "mimetype": "text/x-python",
   "name": "python",
   "nbconvert_exporter": "python",
   "pygments_lexer": "ipython3",
   "version": "3.12.7"
  }
 },
 "nbformat": 4,
 "nbformat_minor": 5
}
