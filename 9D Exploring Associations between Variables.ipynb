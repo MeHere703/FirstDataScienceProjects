{
 "cells": [
  {
   "cell_type": "markdown",
   "id": "bfde7b20-5a95-44f5-b30c-1c1a3f90ae31",
   "metadata": {
    "deletable": false,
    "editable": false
   },
   "source": [
    "# <font face = 'Impact' color = '#FFAEBC' > Exploring Associations between Variables <font/>\n",
    "#### <font face = 'Times New Roman' color = '#B5E5CF'> License: GPL v3.0<font/>\n",
    "#### <font face = 'Times New Roman' color = '#B5E5CF'> Author and Trainer: Paolo Hilado MSc. (Data Science)<font/>\n",
    "This notebook provides a comprehensive analysis of variable associations while ensuring key statistical assumptions are met. It begins with an exploratory data analysis, checking for normality, linearity, presence of outliers, and homoscedasticity using visualizations and statistical tests. After verifying assumptions, the notebook applies appropriate correlation techniques such as Pearson, Spearman, and Kendall’s Tau-b, ensuring robust insights into the relationships between variables."
   ]
  },
  {
   "cell_type": "code",
   "execution_count": null,
   "id": "f3d640f3-2fbc-4c66-b81b-a6b5a7f17ea6",
   "metadata": {},
   "outputs": [],
   "source": [
    "# Import the necessary libraries pandas, numpy, scipy.stats, seaborn, matplotlib.pyplot, qdesc\n"
   ]
  },
  {
   "cell_type": "code",
   "execution_count": null,
   "id": "a9353f5f-02cd-4bd7-a775-6f69c184e146",
   "metadata": {},
   "outputs": [],
   "source": [
    "# Loading our data set RevGrades\n"
   ]
  },
  {
   "cell_type": "code",
   "execution_count": null,
   "id": "4deb3c10-9af0-4d74-9e70-bf5ac6b615db",
   "metadata": {},
   "outputs": [],
   "source": [
    "# Checking the linearity assumption of the variables using a scatter plot.\n"
   ]
  },
  {
   "cell_type": "code",
   "execution_count": null,
   "id": "7a6445a4-e2c0-46a7-ab06-92b47b8f193f",
   "metadata": {},
   "outputs": [],
   "source": [
    "# Doing a normality check using histograms and AD-test\n"
   ]
  },
  {
   "cell_type": "code",
   "execution_count": null,
   "id": "72aba400-564c-4f46-9724-73ec80853f43",
   "metadata": {},
   "outputs": [],
   "source": [
    "# Doing a homoscedasticity check with residual plots\n"
   ]
  },
  {
   "cell_type": "code",
   "execution_count": null,
   "id": "4678d66a-7b26-4db9-9b30-47b9552094bd",
   "metadata": {},
   "outputs": [],
   "source": [
    "# Standardize the variables to have a better visual of the homoscedasticity check.\n",
    "from sklearn.preprocessing import MinMaxScaler\n",
    "scaler = MinMaxScaler()\n",
    "data_normalized = scaler.fit_transform(df[['Review', 'Grades']])\n",
    "dfscaled = pd.DataFrame(data_normalized)"
   ]
  },
  {
   "cell_type": "code",
   "execution_count": null,
   "id": "7d87455e-02df-4436-8310-e9787fbec08c",
   "metadata": {},
   "outputs": [],
   "source": [
    "# Check the first two rows of the standardized data\n"
   ]
  },
  {
   "cell_type": "code",
   "execution_count": null,
   "id": "1599dcba-8950-46e1-9880-07e672bc16a8",
   "metadata": {},
   "outputs": [],
   "source": [
    "# Doing a homoscedasticity check with residual plots\n"
   ]
  },
  {
   "cell_type": "markdown",
   "id": "26e8441e-a1bc-410f-89b1-4a71215c1b33",
   "metadata": {},
   "source": [
    "## Choose the appropriate correlation analysis  given the assumption check."
   ]
  },
  {
   "cell_type": "code",
   "execution_count": null,
   "id": "0b801749-53bc-4cda-bfde-e03abc793635",
   "metadata": {},
   "outputs": [],
   "source": [
    "# Option A: Kendall's tau-b\n"
   ]
  },
  {
   "cell_type": "code",
   "execution_count": null,
   "id": "a1b39d4f-2e11-45c4-871a-0d0670b3ba99",
   "metadata": {},
   "outputs": [],
   "source": [
    "# Option B: Spearman's rank correlation\n"
   ]
  },
  {
   "cell_type": "code",
   "execution_count": null,
   "id": "6b2f0daf-f665-4d64-8003-563e268c9b57",
   "metadata": {},
   "outputs": [],
   "source": [
    "# Option C: Pearson Correlation\n"
   ]
  },
  {
   "cell_type": "markdown",
   "id": "d04e4b45-48c2-4d68-ae95-e3c0031af3ad",
   "metadata": {},
   "source": [
    "## Provide and interpretation of the correlation analysis given that this is Population Data."
   ]
  }
 ],
 "metadata": {
  "kernelspec": {
   "display_name": "Python 3 (ipykernel)",
   "language": "python",
   "name": "python3"
  },
  "language_info": {
   "codemirror_mode": {
    "name": "ipython",
    "version": 3
   },
   "file_extension": ".py",
   "mimetype": "text/x-python",
   "name": "python",
   "nbconvert_exporter": "python",
   "pygments_lexer": "ipython3",
   "version": "3.12.7"
  }
 },
 "nbformat": 4,
 "nbformat_minor": 5
}
